{
 "cells": [
  {
   "cell_type": "markdown",
   "metadata": {},
   "source": [
    "# Imputación de datos faltantes\n",
    "En este cuaderno se aborda la imputacion con la tecnica de imputar la serie con valores dentro de la distribucion normal de cada mes, posteriormente entrenando el modelo SARIMA y finalmente imputando la serie original con el modelo entrenado."
   ]
  },
  {
   "cell_type": "code",
   "execution_count": 1,
   "metadata": {},
   "outputs": [],
   "source": [
    "import matplotlib.pyplot as plt\n",
    "import shutil\n",
    "import os\n",
    "import pandas as pd\n",
    "import numpy as np\n",
    "\n",
    "import warnings\n",
    "\n",
    "warnings.filterwarnings('ignore')"
   ]
  },
  {
   "cell_type": "code",
   "execution_count": 2,
   "metadata": {},
   "outputs": [],
   "source": [
    "lista_zonas = ['MAGDALENA_MEDIO']\n",
    "path = '../datos/separados_por_estacion/'"
   ]
  },
  {
   "cell_type": "code",
   "execution_count": 3,
   "metadata": {},
   "outputs": [
    {
     "name": "stdout",
     "output_type": "stream",
     "text": [
      "Zona: MAGDALENA_MEDIO\n",
      "Archivo: 23010020.csv\n",
      "Archivo: 23010080.csv\n",
      "Archivo: 23020080.csv\n",
      "Archivo: 23020090.csv\n",
      "Archivo: 23020100.csv\n",
      "Archivo: 23025040.csv\n",
      "Archivo: 23040070.csv\n",
      "Archivo: 23050080.csv\n",
      "Archivo: 23050100.csv\n",
      "Archivo: 23050230.csv\n",
      "Archivo: 23050250.csv\n",
      "Archivo: 23055040.csv\n",
      "Archivo: 23055070.csv\n",
      "Archivo: 23060110.csv\n",
      "Archivo: 23060140.csv\n",
      "Archivo: 23060150.csv\n",
      "Archivo: 23060160.csv\n",
      "Archivo: 23060170.csv\n",
      "Archivo: 23060180.csv\n",
      "Archivo: 23060190.csv\n",
      "Archivo: 23060200.csv\n",
      "Archivo: 23060260.csv\n",
      "Archivo: 23060290.csv\n",
      "Archivo: 23065120.csv\n",
      "Archivo: 23070010.csv\n",
      "Archivo: 23070020.csv\n",
      "Archivo: 23080390.csv\n",
      "Archivo: 23080640.csv\n",
      "Archivo: 23080650.csv\n",
      "Archivo: 23080720.csv\n",
      "Archivo: 23080740.csv\n",
      "Archivo: 23080750.csv\n",
      "Archivo: 23080760.csv\n"
     ]
    },
    {
     "name": "stderr",
     "output_type": "stream",
     "text": [
      "c:\\Users\\nlmal\\OneDrive - Universidad de La Rioja\\Documentos\\Master\\Trabajo Fin de Master\\HomogenizacionSeriesPrecipitacion\\TFM\\Lib\\site-packages\\statsmodels\\base\\model.py:607: ConvergenceWarning: Maximum Likelihood optimization failed to converge. Check mle_retvals\n",
      "  warnings.warn(\"Maximum Likelihood optimization failed to \"\n"
     ]
    },
    {
     "name": "stdout",
     "output_type": "stream",
     "text": [
      "Archivo: 23080810.csv\n",
      "Archivo: 23080820.csv\n",
      "Archivo: 23080920.csv\n",
      "Archivo: 23080940.csv\n",
      "Archivo: 23085030.csv\n",
      "Archivo: 23085080.csv\n",
      "Archivo: 23085110.csv\n",
      "Archivo: 23085140.csv\n",
      "Archivo: 23085160.csv\n",
      "Archivo: 23085220.csv\n",
      "Archivo: 23085270.csv\n",
      "Archivo: 23090020.csv\n"
     ]
    },
    {
     "name": "stderr",
     "output_type": "stream",
     "text": [
      "c:\\Users\\nlmal\\OneDrive - Universidad de La Rioja\\Documentos\\Master\\Trabajo Fin de Master\\HomogenizacionSeriesPrecipitacion\\TFM\\Lib\\site-packages\\statsmodels\\base\\model.py:607: ConvergenceWarning: Maximum Likelihood optimization failed to converge. Check mle_retvals\n",
      "  warnings.warn(\"Maximum Likelihood optimization failed to \"\n"
     ]
    },
    {
     "name": "stdout",
     "output_type": "stream",
     "text": [
      "Archivo: 23090110.csv\n",
      "Archivo: 23100030.csv\n",
      "Archivo: 23100040.csv\n",
      "Archivo: 23100050.csv\n",
      "Archivo: 23100070.csv\n",
      "Archivo: 23105030.csv\n",
      "Archivo: 23110030.csv\n",
      "Archivo: 23110040.csv\n",
      "Archivo: 23110060.csv\n",
      "Archivo: 23120010.csv\n",
      "Archivo: 23120050.csv\n",
      "Archivo: 23120200.csv\n",
      "Archivo: 23120210.csv\n",
      "Archivo: 23120220.csv\n",
      "Archivo: 23120240.csv\n"
     ]
    },
    {
     "name": "stderr",
     "output_type": "stream",
     "text": [
      "c:\\Users\\nlmal\\OneDrive - Universidad de La Rioja\\Documentos\\Master\\Trabajo Fin de Master\\HomogenizacionSeriesPrecipitacion\\TFM\\Lib\\site-packages\\statsmodels\\base\\model.py:607: ConvergenceWarning: Maximum Likelihood optimization failed to converge. Check mle_retvals\n",
      "  warnings.warn(\"Maximum Likelihood optimization failed to \"\n"
     ]
    },
    {
     "name": "stdout",
     "output_type": "stream",
     "text": [
      "Archivo: 23120250.csv\n",
      "Archivo: 23125040.csv\n",
      "Archivo: 23125050.csv\n",
      "Archivo: 23125060.csv\n"
     ]
    },
    {
     "name": "stderr",
     "output_type": "stream",
     "text": [
      "c:\\Users\\nlmal\\OneDrive - Universidad de La Rioja\\Documentos\\Master\\Trabajo Fin de Master\\HomogenizacionSeriesPrecipitacion\\TFM\\Lib\\site-packages\\statsmodels\\base\\model.py:607: ConvergenceWarning: Maximum Likelihood optimization failed to converge. Check mle_retvals\n",
      "  warnings.warn(\"Maximum Likelihood optimization failed to \"\n"
     ]
    },
    {
     "name": "stdout",
     "output_type": "stream",
     "text": [
      "Archivo: 23125080.csv\n",
      "Archivo: 23125090.csv\n",
      "Archivo: 23125100.csv\n",
      "Archivo: 23125120.csv\n",
      "Archivo: 23125130.csv\n",
      "Archivo: 23125140.csv\n",
      "Archivo: 23125150.csv\n",
      "Archivo: 23130010.csv\n",
      "Archivo: 23140070.csv\n"
     ]
    },
    {
     "name": "stderr",
     "output_type": "stream",
     "text": [
      "c:\\Users\\nlmal\\OneDrive - Universidad de La Rioja\\Documentos\\Master\\Trabajo Fin de Master\\HomogenizacionSeriesPrecipitacion\\TFM\\Lib\\site-packages\\statsmodels\\base\\model.py:607: ConvergenceWarning: Maximum Likelihood optimization failed to converge. Check mle_retvals\n",
      "  warnings.warn(\"Maximum Likelihood optimization failed to \"\n"
     ]
    },
    {
     "name": "stdout",
     "output_type": "stream",
     "text": [
      "Archivo: 23145020.csv\n",
      "Archivo: 23155030.csv\n"
     ]
    },
    {
     "name": "stderr",
     "output_type": "stream",
     "text": [
      "c:\\Users\\nlmal\\OneDrive - Universidad de La Rioja\\Documentos\\Master\\Trabajo Fin de Master\\HomogenizacionSeriesPrecipitacion\\TFM\\Lib\\site-packages\\statsmodels\\base\\model.py:607: ConvergenceWarning: Maximum Likelihood optimization failed to converge. Check mle_retvals\n",
      "  warnings.warn(\"Maximum Likelihood optimization failed to \"\n"
     ]
    },
    {
     "name": "stdout",
     "output_type": "stream",
     "text": [
      "Archivo: 23155040.csv\n",
      "Archivo: 23160010.csv\n",
      "Archivo: 23175020.csv\n",
      "Archivo: 23180020.csv\n",
      "Archivo: 23180040.csv\n",
      "Archivo: 23180050.csv\n",
      "Archivo: 23180070.csv\n",
      "Archivo: 23180080.csv\n",
      "Archivo: 23180100.csv\n",
      "Archivo: 23180110.csv\n"
     ]
    },
    {
     "name": "stderr",
     "output_type": "stream",
     "text": [
      "c:\\Users\\nlmal\\OneDrive - Universidad de La Rioja\\Documentos\\Master\\Trabajo Fin de Master\\HomogenizacionSeriesPrecipitacion\\TFM\\Lib\\site-packages\\statsmodels\\base\\model.py:607: ConvergenceWarning: Maximum Likelihood optimization failed to converge. Check mle_retvals\n",
      "  warnings.warn(\"Maximum Likelihood optimization failed to \"\n"
     ]
    },
    {
     "name": "stdout",
     "output_type": "stream",
     "text": [
      "Archivo: 23180120.csv\n"
     ]
    },
    {
     "name": "stderr",
     "output_type": "stream",
     "text": [
      "c:\\Users\\nlmal\\OneDrive - Universidad de La Rioja\\Documentos\\Master\\Trabajo Fin de Master\\HomogenizacionSeriesPrecipitacion\\TFM\\Lib\\site-packages\\statsmodels\\base\\model.py:607: ConvergenceWarning: Maximum Likelihood optimization failed to converge. Check mle_retvals\n",
      "  warnings.warn(\"Maximum Likelihood optimization failed to \"\n"
     ]
    },
    {
     "name": "stdout",
     "output_type": "stream",
     "text": [
      "Archivo: 23185010.csv\n",
      "Archivo: 23190110.csv\n",
      "Archivo: 23190130.csv\n",
      "Archivo: 23190140.csv\n",
      "Archivo: 23190210.csv\n",
      "Archivo: 23190260.csv\n",
      "Archivo: 23190280.csv\n",
      "Archivo: 23190300.csv\n",
      "Archivo: 23190320.csv\n",
      "Archivo: 23190340.csv\n",
      "Archivo: 23190350.csv\n",
      "Archivo: 23190360.csv\n",
      "Archivo: 23190380.csv\n",
      "Archivo: 23190400.csv\n",
      "Archivo: 23190440.csv\n",
      "Archivo: 23190450.csv\n",
      "Archivo: 23190480.csv\n",
      "Archivo: 23190500.csv\n",
      "Archivo: 23190510.csv\n",
      "Archivo: 23190520.csv\n",
      "Archivo: 23190540.csv\n",
      "Archivo: 23190560.csv\n",
      "Archivo: 23190580.csv\n",
      "Archivo: 23190590.csv\n",
      "Archivo: 23190600.csv\n",
      "Archivo: 23190700.csv\n",
      "Archivo: 23190710.csv\n",
      "Archivo: 23190810.csv\n",
      "Archivo: 23190830.csv\n",
      "Archivo: 23195110.csv\n",
      "Archivo: 23195180.csv\n"
     ]
    },
    {
     "name": "stderr",
     "output_type": "stream",
     "text": [
      "c:\\Users\\nlmal\\OneDrive - Universidad de La Rioja\\Documentos\\Master\\Trabajo Fin de Master\\HomogenizacionSeriesPrecipitacion\\TFM\\Lib\\site-packages\\statsmodels\\base\\model.py:607: ConvergenceWarning: Maximum Likelihood optimization failed to converge. Check mle_retvals\n",
      "  warnings.warn(\"Maximum Likelihood optimization failed to \"\n"
     ]
    },
    {
     "name": "stdout",
     "output_type": "stream",
     "text": [
      "Archivo: 23195502.csv\n",
      "Archivo: 23200010.csv\n",
      "Archivo: 23200060.csv\n",
      "Archivo: 23205020.csv\n",
      "Archivo: 23205030.csv\n",
      "Archivo: 23210010.csv\n",
      "Archivo: 23210020.csv\n",
      "Archivo: 23210120.csv\n",
      "Archivo: 23210130.csv\n",
      "Archivo: 23210160.csv\n",
      "Archivo: 23215030.csv\n"
     ]
    },
    {
     "name": "stderr",
     "output_type": "stream",
     "text": [
      "c:\\Users\\nlmal\\OneDrive - Universidad de La Rioja\\Documentos\\Master\\Trabajo Fin de Master\\HomogenizacionSeriesPrecipitacion\\TFM\\Lib\\site-packages\\statsmodels\\base\\model.py:607: ConvergenceWarning: Maximum Likelihood optimization failed to converge. Check mle_retvals\n",
      "  warnings.warn(\"Maximum Likelihood optimization failed to \"\n"
     ]
    },
    {
     "name": "stdout",
     "output_type": "stream",
     "text": [
      "Archivo: 23215050.csv\n",
      "Archivo: 25020970.csv\n",
      "Archivo: 26155150.csv\n"
     ]
    },
    {
     "data": {
      "text/plain": [
       "<Figure size 1000x600 with 0 Axes>"
      ]
     },
     "metadata": {},
     "output_type": "display_data"
    },
    {
     "data": {
      "text/plain": [
       "<Figure size 1000x600 with 0 Axes>"
      ]
     },
     "metadata": {},
     "output_type": "display_data"
    },
    {
     "data": {
      "text/plain": [
       "<Figure size 1000x600 with 0 Axes>"
      ]
     },
     "metadata": {},
     "output_type": "display_data"
    },
    {
     "data": {
      "text/plain": [
       "<Figure size 1000x600 with 0 Axes>"
      ]
     },
     "metadata": {},
     "output_type": "display_data"
    },
    {
     "data": {
      "text/plain": [
       "<Figure size 1000x600 with 0 Axes>"
      ]
     },
     "metadata": {},
     "output_type": "display_data"
    },
    {
     "data": {
      "text/plain": [
       "<Figure size 1000x600 with 0 Axes>"
      ]
     },
     "metadata": {},
     "output_type": "display_data"
    },
    {
     "data": {
      "text/plain": [
       "<Figure size 1000x600 with 0 Axes>"
      ]
     },
     "metadata": {},
     "output_type": "display_data"
    },
    {
     "data": {
      "text/plain": [
       "<Figure size 1000x600 with 0 Axes>"
      ]
     },
     "metadata": {},
     "output_type": "display_data"
    },
    {
     "data": {
      "text/plain": [
       "<Figure size 1000x600 with 0 Axes>"
      ]
     },
     "metadata": {},
     "output_type": "display_data"
    },
    {
     "data": {
      "text/plain": [
       "<Figure size 1000x600 with 0 Axes>"
      ]
     },
     "metadata": {},
     "output_type": "display_data"
    },
    {
     "data": {
      "text/plain": [
       "<Figure size 1000x600 with 0 Axes>"
      ]
     },
     "metadata": {},
     "output_type": "display_data"
    },
    {
     "data": {
      "text/plain": [
       "<Figure size 1000x600 with 0 Axes>"
      ]
     },
     "metadata": {},
     "output_type": "display_data"
    },
    {
     "data": {
      "text/plain": [
       "<Figure size 1000x600 with 0 Axes>"
      ]
     },
     "metadata": {},
     "output_type": "display_data"
    },
    {
     "data": {
      "text/plain": [
       "<Figure size 1000x600 with 0 Axes>"
      ]
     },
     "metadata": {},
     "output_type": "display_data"
    },
    {
     "data": {
      "text/plain": [
       "<Figure size 1000x600 with 0 Axes>"
      ]
     },
     "metadata": {},
     "output_type": "display_data"
    },
    {
     "data": {
      "text/plain": [
       "<Figure size 1000x600 with 0 Axes>"
      ]
     },
     "metadata": {},
     "output_type": "display_data"
    },
    {
     "data": {
      "text/plain": [
       "<Figure size 1000x600 with 0 Axes>"
      ]
     },
     "metadata": {},
     "output_type": "display_data"
    },
    {
     "data": {
      "text/plain": [
       "<Figure size 1000x600 with 0 Axes>"
      ]
     },
     "metadata": {},
     "output_type": "display_data"
    },
    {
     "data": {
      "text/plain": [
       "<Figure size 1000x600 with 0 Axes>"
      ]
     },
     "metadata": {},
     "output_type": "display_data"
    },
    {
     "data": {
      "text/plain": [
       "<Figure size 1000x600 with 0 Axes>"
      ]
     },
     "metadata": {},
     "output_type": "display_data"
    },
    {
     "data": {
      "text/plain": [
       "<Figure size 1000x600 with 0 Axes>"
      ]
     },
     "metadata": {},
     "output_type": "display_data"
    },
    {
     "data": {
      "text/plain": [
       "<Figure size 1000x600 with 0 Axes>"
      ]
     },
     "metadata": {},
     "output_type": "display_data"
    },
    {
     "data": {
      "text/plain": [
       "<Figure size 1000x600 with 0 Axes>"
      ]
     },
     "metadata": {},
     "output_type": "display_data"
    },
    {
     "data": {
      "text/plain": [
       "<Figure size 1000x600 with 0 Axes>"
      ]
     },
     "metadata": {},
     "output_type": "display_data"
    },
    {
     "data": {
      "text/plain": [
       "<Figure size 1000x600 with 0 Axes>"
      ]
     },
     "metadata": {},
     "output_type": "display_data"
    },
    {
     "data": {
      "text/plain": [
       "<Figure size 1000x600 with 0 Axes>"
      ]
     },
     "metadata": {},
     "output_type": "display_data"
    },
    {
     "data": {
      "text/plain": [
       "<Figure size 1000x600 with 0 Axes>"
      ]
     },
     "metadata": {},
     "output_type": "display_data"
    },
    {
     "data": {
      "text/plain": [
       "<Figure size 1000x600 with 0 Axes>"
      ]
     },
     "metadata": {},
     "output_type": "display_data"
    },
    {
     "data": {
      "text/plain": [
       "<Figure size 1000x600 with 0 Axes>"
      ]
     },
     "metadata": {},
     "output_type": "display_data"
    },
    {
     "data": {
      "text/plain": [
       "<Figure size 1000x600 with 0 Axes>"
      ]
     },
     "metadata": {},
     "output_type": "display_data"
    },
    {
     "data": {
      "text/plain": [
       "<Figure size 1000x600 with 0 Axes>"
      ]
     },
     "metadata": {},
     "output_type": "display_data"
    },
    {
     "data": {
      "text/plain": [
       "<Figure size 1000x600 with 0 Axes>"
      ]
     },
     "metadata": {},
     "output_type": "display_data"
    },
    {
     "data": {
      "text/plain": [
       "<Figure size 1000x600 with 0 Axes>"
      ]
     },
     "metadata": {},
     "output_type": "display_data"
    },
    {
     "data": {
      "text/plain": [
       "<Figure size 1000x600 with 0 Axes>"
      ]
     },
     "metadata": {},
     "output_type": "display_data"
    },
    {
     "data": {
      "text/plain": [
       "<Figure size 1000x600 with 0 Axes>"
      ]
     },
     "metadata": {},
     "output_type": "display_data"
    },
    {
     "data": {
      "text/plain": [
       "<Figure size 1000x600 with 0 Axes>"
      ]
     },
     "metadata": {},
     "output_type": "display_data"
    },
    {
     "data": {
      "text/plain": [
       "<Figure size 1000x600 with 0 Axes>"
      ]
     },
     "metadata": {},
     "output_type": "display_data"
    },
    {
     "data": {
      "text/plain": [
       "<Figure size 1000x600 with 0 Axes>"
      ]
     },
     "metadata": {},
     "output_type": "display_data"
    },
    {
     "data": {
      "text/plain": [
       "<Figure size 1000x600 with 0 Axes>"
      ]
     },
     "metadata": {},
     "output_type": "display_data"
    },
    {
     "data": {
      "text/plain": [
       "<Figure size 1000x600 with 0 Axes>"
      ]
     },
     "metadata": {},
     "output_type": "display_data"
    },
    {
     "data": {
      "text/plain": [
       "<Figure size 1000x600 with 0 Axes>"
      ]
     },
     "metadata": {},
     "output_type": "display_data"
    },
    {
     "data": {
      "text/plain": [
       "<Figure size 1000x600 with 0 Axes>"
      ]
     },
     "metadata": {},
     "output_type": "display_data"
    },
    {
     "data": {
      "text/plain": [
       "<Figure size 1000x600 with 0 Axes>"
      ]
     },
     "metadata": {},
     "output_type": "display_data"
    },
    {
     "data": {
      "text/plain": [
       "<Figure size 1000x600 with 0 Axes>"
      ]
     },
     "metadata": {},
     "output_type": "display_data"
    },
    {
     "data": {
      "text/plain": [
       "<Figure size 1000x600 with 0 Axes>"
      ]
     },
     "metadata": {},
     "output_type": "display_data"
    },
    {
     "data": {
      "text/plain": [
       "<Figure size 1000x600 with 0 Axes>"
      ]
     },
     "metadata": {},
     "output_type": "display_data"
    },
    {
     "data": {
      "text/plain": [
       "<Figure size 1000x600 with 0 Axes>"
      ]
     },
     "metadata": {},
     "output_type": "display_data"
    },
    {
     "data": {
      "text/plain": [
       "<Figure size 1000x600 with 0 Axes>"
      ]
     },
     "metadata": {},
     "output_type": "display_data"
    },
    {
     "data": {
      "text/plain": [
       "<Figure size 1000x600 with 0 Axes>"
      ]
     },
     "metadata": {},
     "output_type": "display_data"
    },
    {
     "data": {
      "text/plain": [
       "<Figure size 1000x600 with 0 Axes>"
      ]
     },
     "metadata": {},
     "output_type": "display_data"
    },
    {
     "data": {
      "text/plain": [
       "<Figure size 1000x600 with 0 Axes>"
      ]
     },
     "metadata": {},
     "output_type": "display_data"
    },
    {
     "data": {
      "text/plain": [
       "<Figure size 1000x600 with 0 Axes>"
      ]
     },
     "metadata": {},
     "output_type": "display_data"
    },
    {
     "data": {
      "text/plain": [
       "<Figure size 1000x600 with 0 Axes>"
      ]
     },
     "metadata": {},
     "output_type": "display_data"
    },
    {
     "data": {
      "text/plain": [
       "<Figure size 1000x600 with 0 Axes>"
      ]
     },
     "metadata": {},
     "output_type": "display_data"
    },
    {
     "data": {
      "text/plain": [
       "<Figure size 1000x600 with 0 Axes>"
      ]
     },
     "metadata": {},
     "output_type": "display_data"
    },
    {
     "data": {
      "text/plain": [
       "<Figure size 1000x600 with 0 Axes>"
      ]
     },
     "metadata": {},
     "output_type": "display_data"
    },
    {
     "data": {
      "text/plain": [
       "<Figure size 1000x600 with 0 Axes>"
      ]
     },
     "metadata": {},
     "output_type": "display_data"
    },
    {
     "data": {
      "text/plain": [
       "<Figure size 1000x600 with 0 Axes>"
      ]
     },
     "metadata": {},
     "output_type": "display_data"
    },
    {
     "data": {
      "text/plain": [
       "<Figure size 1000x600 with 0 Axes>"
      ]
     },
     "metadata": {},
     "output_type": "display_data"
    },
    {
     "data": {
      "text/plain": [
       "<Figure size 1000x600 with 0 Axes>"
      ]
     },
     "metadata": {},
     "output_type": "display_data"
    },
    {
     "data": {
      "text/plain": [
       "<Figure size 1000x600 with 0 Axes>"
      ]
     },
     "metadata": {},
     "output_type": "display_data"
    },
    {
     "data": {
      "text/plain": [
       "<Figure size 1000x600 with 0 Axes>"
      ]
     },
     "metadata": {},
     "output_type": "display_data"
    },
    {
     "data": {
      "text/plain": [
       "<Figure size 1000x600 with 0 Axes>"
      ]
     },
     "metadata": {},
     "output_type": "display_data"
    },
    {
     "data": {
      "text/plain": [
       "<Figure size 1000x600 with 0 Axes>"
      ]
     },
     "metadata": {},
     "output_type": "display_data"
    },
    {
     "data": {
      "text/plain": [
       "<Figure size 1000x600 with 0 Axes>"
      ]
     },
     "metadata": {},
     "output_type": "display_data"
    },
    {
     "data": {
      "text/plain": [
       "<Figure size 1000x600 with 0 Axes>"
      ]
     },
     "metadata": {},
     "output_type": "display_data"
    },
    {
     "data": {
      "text/plain": [
       "<Figure size 1000x600 with 0 Axes>"
      ]
     },
     "metadata": {},
     "output_type": "display_data"
    },
    {
     "data": {
      "text/plain": [
       "<Figure size 1000x600 with 0 Axes>"
      ]
     },
     "metadata": {},
     "output_type": "display_data"
    },
    {
     "data": {
      "text/plain": [
       "<Figure size 1000x600 with 0 Axes>"
      ]
     },
     "metadata": {},
     "output_type": "display_data"
    },
    {
     "data": {
      "text/plain": [
       "<Figure size 1000x600 with 0 Axes>"
      ]
     },
     "metadata": {},
     "output_type": "display_data"
    },
    {
     "data": {
      "text/plain": [
       "<Figure size 1000x600 with 0 Axes>"
      ]
     },
     "metadata": {},
     "output_type": "display_data"
    },
    {
     "data": {
      "text/plain": [
       "<Figure size 1000x600 with 0 Axes>"
      ]
     },
     "metadata": {},
     "output_type": "display_data"
    },
    {
     "data": {
      "text/plain": [
       "<Figure size 1000x600 with 0 Axes>"
      ]
     },
     "metadata": {},
     "output_type": "display_data"
    },
    {
     "data": {
      "text/plain": [
       "<Figure size 1000x600 with 0 Axes>"
      ]
     },
     "metadata": {},
     "output_type": "display_data"
    },
    {
     "data": {
      "text/plain": [
       "<Figure size 1000x600 with 0 Axes>"
      ]
     },
     "metadata": {},
     "output_type": "display_data"
    },
    {
     "data": {
      "text/plain": [
       "<Figure size 1000x600 with 0 Axes>"
      ]
     },
     "metadata": {},
     "output_type": "display_data"
    },
    {
     "data": {
      "text/plain": [
       "<Figure size 1000x600 with 0 Axes>"
      ]
     },
     "metadata": {},
     "output_type": "display_data"
    },
    {
     "data": {
      "text/plain": [
       "<Figure size 1000x600 with 0 Axes>"
      ]
     },
     "metadata": {},
     "output_type": "display_data"
    },
    {
     "data": {
      "text/plain": [
       "<Figure size 1000x600 with 0 Axes>"
      ]
     },
     "metadata": {},
     "output_type": "display_data"
    },
    {
     "data": {
      "text/plain": [
       "<Figure size 1000x600 with 0 Axes>"
      ]
     },
     "metadata": {},
     "output_type": "display_data"
    },
    {
     "data": {
      "text/plain": [
       "<Figure size 1000x600 with 0 Axes>"
      ]
     },
     "metadata": {},
     "output_type": "display_data"
    },
    {
     "data": {
      "text/plain": [
       "<Figure size 1000x600 with 0 Axes>"
      ]
     },
     "metadata": {},
     "output_type": "display_data"
    },
    {
     "data": {
      "text/plain": [
       "<Figure size 1000x600 with 0 Axes>"
      ]
     },
     "metadata": {},
     "output_type": "display_data"
    },
    {
     "data": {
      "text/plain": [
       "<Figure size 1000x600 with 0 Axes>"
      ]
     },
     "metadata": {},
     "output_type": "display_data"
    },
    {
     "data": {
      "text/plain": [
       "<Figure size 1000x600 with 0 Axes>"
      ]
     },
     "metadata": {},
     "output_type": "display_data"
    },
    {
     "data": {
      "text/plain": [
       "<Figure size 1000x600 with 0 Axes>"
      ]
     },
     "metadata": {},
     "output_type": "display_data"
    },
    {
     "data": {
      "text/plain": [
       "<Figure size 1000x600 with 0 Axes>"
      ]
     },
     "metadata": {},
     "output_type": "display_data"
    },
    {
     "data": {
      "text/plain": [
       "<Figure size 1000x600 with 0 Axes>"
      ]
     },
     "metadata": {},
     "output_type": "display_data"
    },
    {
     "data": {
      "text/plain": [
       "<Figure size 1000x600 with 0 Axes>"
      ]
     },
     "metadata": {},
     "output_type": "display_data"
    },
    {
     "data": {
      "text/plain": [
       "<Figure size 1000x600 with 0 Axes>"
      ]
     },
     "metadata": {},
     "output_type": "display_data"
    },
    {
     "data": {
      "text/plain": [
       "<Figure size 1000x600 with 0 Axes>"
      ]
     },
     "metadata": {},
     "output_type": "display_data"
    },
    {
     "data": {
      "text/plain": [
       "<Figure size 1000x600 with 0 Axes>"
      ]
     },
     "metadata": {},
     "output_type": "display_data"
    },
    {
     "data": {
      "text/plain": [
       "<Figure size 1000x600 with 0 Axes>"
      ]
     },
     "metadata": {},
     "output_type": "display_data"
    },
    {
     "data": {
      "text/plain": [
       "<Figure size 1000x600 with 0 Axes>"
      ]
     },
     "metadata": {},
     "output_type": "display_data"
    },
    {
     "data": {
      "text/plain": [
       "<Figure size 1000x600 with 0 Axes>"
      ]
     },
     "metadata": {},
     "output_type": "display_data"
    },
    {
     "data": {
      "text/plain": [
       "<Figure size 1000x600 with 0 Axes>"
      ]
     },
     "metadata": {},
     "output_type": "display_data"
    },
    {
     "data": {
      "text/plain": [
       "<Figure size 1000x600 with 0 Axes>"
      ]
     },
     "metadata": {},
     "output_type": "display_data"
    },
    {
     "data": {
      "text/plain": [
       "<Figure size 1000x600 with 0 Axes>"
      ]
     },
     "metadata": {},
     "output_type": "display_data"
    },
    {
     "data": {
      "text/plain": [
       "<Figure size 1000x600 with 0 Axes>"
      ]
     },
     "metadata": {},
     "output_type": "display_data"
    },
    {
     "data": {
      "text/plain": [
       "<Figure size 1000x600 with 0 Axes>"
      ]
     },
     "metadata": {},
     "output_type": "display_data"
    },
    {
     "data": {
      "text/plain": [
       "<Figure size 1000x600 with 0 Axes>"
      ]
     },
     "metadata": {},
     "output_type": "display_data"
    },
    {
     "data": {
      "text/plain": [
       "<Figure size 1000x600 with 0 Axes>"
      ]
     },
     "metadata": {},
     "output_type": "display_data"
    },
    {
     "data": {
      "text/plain": [
       "<Figure size 1000x600 with 0 Axes>"
      ]
     },
     "metadata": {},
     "output_type": "display_data"
    },
    {
     "data": {
      "text/plain": [
       "<Figure size 1000x600 with 0 Axes>"
      ]
     },
     "metadata": {},
     "output_type": "display_data"
    },
    {
     "data": {
      "text/plain": [
       "<Figure size 1000x600 with 0 Axes>"
      ]
     },
     "metadata": {},
     "output_type": "display_data"
    },
    {
     "data": {
      "text/plain": [
       "<Figure size 1000x600 with 0 Axes>"
      ]
     },
     "metadata": {},
     "output_type": "display_data"
    },
    {
     "data": {
      "text/plain": [
       "<Figure size 1000x600 with 0 Axes>"
      ]
     },
     "metadata": {},
     "output_type": "display_data"
    },
    {
     "data": {
      "text/plain": [
       "<Figure size 1000x600 with 0 Axes>"
      ]
     },
     "metadata": {},
     "output_type": "display_data"
    },
    {
     "data": {
      "text/plain": [
       "<Figure size 1000x600 with 0 Axes>"
      ]
     },
     "metadata": {},
     "output_type": "display_data"
    },
    {
     "data": {
      "text/plain": [
       "<Figure size 1000x600 with 0 Axes>"
      ]
     },
     "metadata": {},
     "output_type": "display_data"
    },
    {
     "data": {
      "text/plain": [
       "<Figure size 1000x600 with 0 Axes>"
      ]
     },
     "metadata": {},
     "output_type": "display_data"
    },
    {
     "data": {
      "text/plain": [
       "<Figure size 1000x600 with 0 Axes>"
      ]
     },
     "metadata": {},
     "output_type": "display_data"
    },
    {
     "data": {
      "text/plain": [
       "<Figure size 1000x600 with 0 Axes>"
      ]
     },
     "metadata": {},
     "output_type": "display_data"
    },
    {
     "data": {
      "text/plain": [
       "<Figure size 1000x600 with 0 Axes>"
      ]
     },
     "metadata": {},
     "output_type": "display_data"
    },
    {
     "data": {
      "text/plain": [
       "<Figure size 1000x600 with 0 Axes>"
      ]
     },
     "metadata": {},
     "output_type": "display_data"
    },
    {
     "data": {
      "text/plain": [
       "<Figure size 1000x600 with 0 Axes>"
      ]
     },
     "metadata": {},
     "output_type": "display_data"
    },
    {
     "data": {
      "text/plain": [
       "<Figure size 1000x600 with 0 Axes>"
      ]
     },
     "metadata": {},
     "output_type": "display_data"
    },
    {
     "data": {
      "text/plain": [
       "<Figure size 1000x600 with 0 Axes>"
      ]
     },
     "metadata": {},
     "output_type": "display_data"
    },
    {
     "data": {
      "text/plain": [
       "<Figure size 1000x600 with 0 Axes>"
      ]
     },
     "metadata": {},
     "output_type": "display_data"
    },
    {
     "data": {
      "text/plain": [
       "<Figure size 1000x600 with 0 Axes>"
      ]
     },
     "metadata": {},
     "output_type": "display_data"
    },
    {
     "data": {
      "text/plain": [
       "<Figure size 1000x600 with 0 Axes>"
      ]
     },
     "metadata": {},
     "output_type": "display_data"
    },
    {
     "data": {
      "text/plain": [
       "<Figure size 1000x600 with 0 Axes>"
      ]
     },
     "metadata": {},
     "output_type": "display_data"
    },
    {
     "data": {
      "text/plain": [
       "<Figure size 1000x600 with 0 Axes>"
      ]
     },
     "metadata": {},
     "output_type": "display_data"
    },
    {
     "data": {
      "text/plain": [
       "<Figure size 1000x600 with 0 Axes>"
      ]
     },
     "metadata": {},
     "output_type": "display_data"
    },
    {
     "data": {
      "text/plain": [
       "<Figure size 1000x600 with 0 Axes>"
      ]
     },
     "metadata": {},
     "output_type": "display_data"
    },
    {
     "data": {
      "text/plain": [
       "<Figure size 1000x600 with 0 Axes>"
      ]
     },
     "metadata": {},
     "output_type": "display_data"
    },
    {
     "data": {
      "text/plain": [
       "<Figure size 1000x600 with 0 Axes>"
      ]
     },
     "metadata": {},
     "output_type": "display_data"
    },
    {
     "data": {
      "text/plain": [
       "<Figure size 1000x600 with 0 Axes>"
      ]
     },
     "metadata": {},
     "output_type": "display_data"
    },
    {
     "data": {
      "text/plain": [
       "<Figure size 1000x600 with 0 Axes>"
      ]
     },
     "metadata": {},
     "output_type": "display_data"
    },
    {
     "data": {
      "text/plain": [
       "<Figure size 1000x600 with 0 Axes>"
      ]
     },
     "metadata": {},
     "output_type": "display_data"
    },
    {
     "data": {
      "text/plain": [
       "<Figure size 1000x600 with 0 Axes>"
      ]
     },
     "metadata": {},
     "output_type": "display_data"
    }
   ],
   "source": [
    "from statsmodels.tsa.stattools import pacf\n",
    "from statsmodels.tsa.stattools import adfuller\n",
    "from sklearn.metrics import mean_squared_error\n",
    "from math import sqrt\n",
    "from statsmodels.tsa.arima.model import ARIMA\n",
    "from statsmodels.graphics.tsaplots import plot_pacf\n",
    "from pmdarima import auto_arima\n",
    "\n",
    "for zona in lista_zonas:\n",
    "    print('Zona:',zona)\n",
    "    path_zone = path+zona\n",
    "\n",
    "    output_data_path = f'../datos/imputados_SARIMA/{zona}/'\n",
    "    \n",
    "    if os.path.exists(output_data_path):\n",
    "        shutil.rmtree(output_data_path, ignore_errors=True)\n",
    "    if not os.path.exists(output_data_path):\n",
    "        os.makedirs(output_data_path)\n",
    "\n",
    "    for file in os.listdir(path_zone):\n",
    "        output_text = []\n",
    "        print('Archivo:',file)\n",
    "        station = file.split('.')[0]\n",
    "        df = pd.read_csv(path_zone+'/'+file)\n",
    "\n",
    "        df_ARIMA = df[[\"Fecha\", \"Mes\", station]]\n",
    "        df_ARIMA['Fecha'] = pd.to_datetime(df_ARIMA['Fecha'])\n",
    "\n",
    "        df_ARIMA = df_ARIMA.rename(columns={station: 'Precipitación_original'})\n",
    "        \n",
    "        df_ARIMA['Precipitación_imputada'] = df_ARIMA[\"Precipitación_original\"]\n",
    "        months = df_ARIMA['Mes'].unique()\n",
    "        for i in months:\n",
    "            mean_month = df_ARIMA.loc[df_ARIMA['Mes'] == i]['Precipitación_imputada'].mean()\n",
    "            std_month = df_ARIMA.loc[df_ARIMA['Mes'] == i]['Precipitación_imputada'].std()\n",
    "\n",
    "            nulls_month = df_ARIMA[df_ARIMA['Mes']==i].isna().index\n",
    "\n",
    "            vals_generated = np.random.normal(loc=mean_month, scale=std_month, size=len(nulls_month))\n",
    "            for index, val in enumerate(nulls_month):\n",
    "                df_ARIMA['Precipitación_imputada'].loc[val] = vals_generated[index]\n",
    "\n",
    "        result = adfuller(df_ARIMA['Precipitación_imputada'])\n",
    "\n",
    "        output_text.append(f'Estacion: {station}')\n",
    "        output_text.append('ADF Statistic: %f' % result[0])\n",
    "        output_text.append('p-value: %f' % result[1])\n",
    "        output_text.append('Critical Values:')\n",
    "        for key, value in result[4].items():\n",
    "            output_text.append('\\t%s: %.3f' % (key, value))\n",
    "        output_text.append('\\n')\n",
    "\n",
    "        output_path = f'../salidas/{zona}/{station}/SARIMA/'\n",
    "        if os.path.exists(output_path):\n",
    "            shutil.rmtree(output_path, ignore_errors=True)\n",
    "        if not os.path.exists(output_path):\n",
    "            os.makedirs(output_path)\n",
    "\n",
    "        # Guardar el texto en un archivo\n",
    "        with open(f'../salidas/{zona}/{station}/SARIMA/ADF.txt', 'w') as f:\n",
    "            for line in output_text:\n",
    "                f.write(line)\n",
    "                f.write(\"\\n\")\n",
    "\n",
    "        # Graficar la PACF\n",
    "        plt.figure(figsize=(10, 6))\n",
    "        plot_pacf(df_ARIMA['Precipitación_imputada'], lags=40)\n",
    "        plt.xlabel('Retrasos')\n",
    "        plt.ylabel('Autocorrelación Parcial')\n",
    "        plt.title('Autocorrelograma Parcial de la Precipitación')\n",
    "        plt.savefig(f'{output_path}PACF.png')\n",
    "        plt.close()\n",
    "\n",
    "        model = auto_arima(df_ARIMA['Precipitación_imputada'], seasonal=True, m=12, trace=False)\n",
    "        # Ajustamos el modelo ARIMA con los 6 valores encontrados\n",
    "        model = ARIMA(df_ARIMA['Precipitación_imputada'], order=(model.order[0], model.order[1], model.order[2]), seasonal_order=(model.seasonal_order[0], model.seasonal_order[1], model.seasonal_order[2], 12))\n",
    "        model_fit = model.fit()\n",
    "\n",
    "        # Guardamos el resumen del modelo\n",
    "        with open(f'{output_path}summary.txt', 'w') as f:\n",
    "            f.write(str(model_fit.summary()))\n",
    "        # Guardamos el modelo\n",
    "        model_fit.save(f'{output_path}model.pkl')\n",
    "\n",
    "        # Crear una copia del DataFrame original para no modificar los datos originales\n",
    "        df_filled = df.copy()\n",
    "        df_filled['Precipitación_original'] = df_filled[station]\n",
    "\n",
    "        # Usar el modelo entrenado para predecir los valores nulos\n",
    "        for i in df_filled[df_filled[station].isna()].index:\n",
    "            df_filled.loc[i, station] = model_fit.predict(start=i, end=i).values[0]\n",
    "\n",
    "        df_filled = df_filled.rename(columns={station: 'Precipitación_imputada'})\n",
    "\n",
    "        df_filled['Precipitación_imputada'] = df_filled['Precipitación_imputada'].apply(lambda x: 0 if x < 0 else x)\n",
    "\n",
    "        indices = np.arange(len(df_filled))\n",
    "        coef = np.polyfit(indices, df_filled['Precipitación_imputada'], 1)  # coef = [pendiente, intersección]\n",
    "        df_filled['xlin'] = np.polyval(coef, indices)\n",
    "\n",
    "        # modificamos la fecha para mostrar solo yyyy-mm, casteamos antes a fecha\n",
    "        df_filled['Fecha'] = pd.to_datetime(df_filled['Fecha']).apply(lambda x: x.strftime('%Y-%m'))\n",
    "\n",
    "        # Graficamos la serie de tiempo original y la serie de tiempo imputada, imprimos con los indices en als etiquetas rotados 90 gradosç\n",
    "        plt.figure(figsize=(10, 6))\n",
    "        plt.plot(df_filled['Fecha'], df_filled['Precipitación_imputada'], label='Serie de Tiempo Imputada')\n",
    "        plt.plot(df_filled['Fecha'], df_filled['Precipitación_original'], label='Serie de Tiempo Original')\n",
    "        plt.plot(df_filled['Fecha'], df_filled['xlin'], label='Línea de Tendencia')\n",
    "        plt.title('Serie de Tiempo Original vs Serie de Tiempo Imputada')\n",
    "        plt.xlabel('Fecha (YYYY-MM)')\n",
    "        plt.ylabel('Precipitación (mm)')\n",
    "        plt.xticks(df_filled['Fecha'][::30])\n",
    "        plt.legend()\n",
    "        plt.savefig(f'{output_path}Serie_Tiempo_imputada.png')\n",
    "        plt.close()\n",
    "\n",
    "        df_filled['xint'] = model_fit.predict(start=0, end=len(df_filled)-1)\n",
    "        df_filled['RESIDUALS'] = df_filled['Precipitación_original'] - df_filled['xint']\n",
    "        df_filled.to_csv(f'{output_data_path}{station}.csv', index=False)\n"
   ]
  }
 ],
 "metadata": {
  "kernelspec": {
   "display_name": "TFM",
   "language": "python",
   "name": "python3"
  },
  "language_info": {
   "codemirror_mode": {
    "name": "ipython",
    "version": 3
   },
   "file_extension": ".py",
   "mimetype": "text/x-python",
   "name": "python",
   "nbconvert_exporter": "python",
   "pygments_lexer": "ipython3",
   "version": "3.12.3"
  }
 },
 "nbformat": 4,
 "nbformat_minor": 2
}
