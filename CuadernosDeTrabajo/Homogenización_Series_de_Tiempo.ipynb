{
 "cells": [
  {
   "cell_type": "markdown",
   "metadata": {},
   "source": [
    "# Cuaderno para realizar la exploracion en la busqueda de la homogeneizacion de las series\n",
    "\n",
    "Partimos de utilizar los datos proporcionados por la pagina del [National Weather Service](http://www.nws.noaa.gov/) de los estados unidos, donde descargamos los datos del ONI(Oceanic Nino Index), de esta forma obtenemos los periodos donde han ocurrido los fenomenos del niño y de la niña.\n",
    "\n",
    "[Cold & Warm Episodes by Season](https://www.cpc.ncep.noaa.gov/products/analysis_monitoring/ensostuff/ONI_v5.php)"
   ]
  },
  {
   "cell_type": "code",
   "execution_count": 32,
   "metadata": {},
   "outputs": [
    {
     "name": "stdout",
     "output_type": "stream",
     "text": [
      "   Year  January  February  March  April  May  June  July  August  September  \\\n",
      "0  1950     -1.5      -1.3   -1.2   -1.2 -1.1  -0.9  -0.5    -0.4       -0.4   \n",
      "1  1951     -0.8      -0.5   -0.2    0.2  0.4   0.6   0.7     0.9        1.0   \n",
      "2  1952      0.5       0.4    0.3    0.3  0.2   0.0  -0.1     0.0        0.2   \n",
      "3  1953      0.4       0.6    0.6    0.7  0.8   0.8   0.7     0.7        0.8   \n",
      "4  1954      0.8       0.5    0.0   -0.4 -0.5  -0.5  -0.6    -0.8       -0.9   \n",
      "\n",
      "   October  November  December  \n",
      "0     -0.4      -0.6      -0.8  \n",
      "1      1.2       1.0       0.8  \n",
      "2      0.1       0.0       0.1  \n",
      "3      0.8       0.8       0.8  \n",
      "4     -0.8      -0.7      -0.7  \n",
      "   Year     month  oni  month_number  nino  nina\n",
      "0  1950   January -1.5             1     0     1\n",
      "1  1950  February -1.3             2     0     1\n",
      "2  1950     March -1.2             3     0     1\n",
      "3  1950     April -1.2             4     0     1\n",
      "4  1950       May -1.1             5     0     1\n"
     ]
    }
   ],
   "source": [
    "import pandas as pd\n",
    "\n",
    "columns = ['Year', 'January', 'February', 'March', 'April', 'May', 'June', 'July', 'August', 'September', 'October', 'November', 'December']\n",
    "oni = pd.read_csv(\"../RecursosYDocumentos/ONI/ONI.csv\", header=None, delimiter=\"\\t\", names=columns)\n",
    "print(oni.head(5))\n",
    "oni = oni.melt(id_vars=[\"Year\"], var_name=\"month\", value_name=\"oni\")\n",
    "oni[\"month_number\"] = pd.to_datetime(oni[\"month\"], format='%B').dt.month\n",
    "oni = oni.sort_values(by=[\"Year\", \"month_number\"])\n",
    "oni.reset_index(drop=True, inplace=True)\n",
    "\n",
    "oni[\"nino\"] = oni[\"oni\"] > 0.5\n",
    "oni[\"nina\"] = oni[\"oni\"] < -0.5\n",
    "\n",
    "oni = oni.astype({\"nino\": int, \"nina\": int})\n",
    "\n",
    "print(oni.head(5))"
   ]
  }
 ],
 "metadata": {
  "kernelspec": {
   "display_name": "TFM",
   "language": "python",
   "name": "python3"
  },
  "language_info": {
   "codemirror_mode": {
    "name": "ipython",
    "version": 3
   },
   "file_extension": ".py",
   "mimetype": "text/x-python",
   "name": "python",
   "nbconvert_exporter": "python",
   "pygments_lexer": "ipython3",
   "version": "3.12.3"
  }
 },
 "nbformat": 4,
 "nbformat_minor": 2
}
